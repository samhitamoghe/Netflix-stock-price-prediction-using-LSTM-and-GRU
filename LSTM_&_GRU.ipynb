{
  "nbformat": 4,
  "nbformat_minor": 0,
  "metadata": {
    "colab": {
      "provenance": []
    },
    "kernelspec": {
      "name": "python3",
      "display_name": "Python 3"
    },
    "language_info": {
      "name": "python"
    }
  },
  "cells": [
    {
      "cell_type": "code",
      "execution_count": null,
      "metadata": {
        "id": "bAabVhmsFQGF"
      },
      "outputs": [],
      "source": [
        "import numpy as np\n",
        "import pandas as pd\n",
        "import matplotlib.pyplot as plt\n",
        "from sklearn.preprocessing import MinMaxScaler\n",
        "from tensorflow.keras.models import Sequential\n",
        "from tensorflow.keras.layers import LSTM, GRU, Dense, Dropout\n",
        "import yfinance as yf\n",
        "from datetime import datetime, timedelta"
      ]
    },
    {
      "cell_type": "code",
      "source": [
        "# Fetch historical stock price data for Netflix\n",
        "ticker = \"NFLX\"\n",
        "start_date = \"2010-01-01\"\n",
        "end_date = (datetime.today() - timedelta(days=1)).strftime('%Y-%m-%d')  # Yesterday's date\n",
        "netflix_data = yf.download(ticker, start=start_date, end=end_date)"
      ],
      "metadata": {
        "colab": {
          "base_uri": "https://localhost:8080/"
        },
        "id": "BV6OICxvFUMK",
        "outputId": "39b72410-0651-47d7-a762-9c20fa1b837e"
      },
      "execution_count": null,
      "outputs": [
        {
          "output_type": "stream",
          "name": "stderr",
          "text": [
            "\r[*********************100%%**********************]  1 of 1 completed\n"
          ]
        }
      ]
    },
    {
      "cell_type": "code",
      "source": [
        "# Preprocess the data\n",
        "training_data = netflix_data['Close'].values.reshape(-1, 1)\n",
        "sc = MinMaxScaler(feature_range=(0, 1))\n",
        "training_data_scaled = sc.fit_transform(training_data)"
      ],
      "metadata": {
        "id": "B8xJtklKFUJh"
      },
      "execution_count": null,
      "outputs": []
    },
    {
      "cell_type": "code",
      "source": [
        "\n",
        "# Creating a data structure with 60 timesteps and 1 output\n",
        "X_train = []\n",
        "y_train = []\n",
        "for i in range(60, len(training_data_scaled)):\n",
        "    X_train.append(training_data_scaled[i-60:i, 0])\n",
        "    y_train.append(training_data_scaled[i, 0])\n",
        "X_train, y_train = np.array(X_train), np.array(y_train)\n",
        "X_train = np.reshape(X_train, (X_train.shape[0], X_train.shape[1], 1))"
      ],
      "metadata": {
        "id": "qWbTAPhtFUGz"
      },
      "execution_count": null,
      "outputs": []
    },
    {
      "cell_type": "code",
      "source": [
        "\n",
        "\n",
        "# Build the LSTM model\n",
        "lstm_model = Sequential()\n",
        "lstm_model.add(LSTM(units=50, return_sequences=True, input_shape=(X_train.shape[1], 1)))\n",
        "lstm_model.add(Dropout(0.2))\n",
        "lstm_model.add(LSTM(units=50, return_sequences=True))\n",
        "lstm_model.add(Dropout(0.2))\n",
        "lstm_model.add(LSTM(units=50))\n",
        "lstm_model.add(Dropout(0.2))\n",
        "lstm_model.add(Dense(units=1))"
      ],
      "metadata": {
        "id": "KOuF515CFUEV"
      },
      "execution_count": null,
      "outputs": []
    },
    {
      "cell_type": "code",
      "source": [
        "# Compile and fit the model\n",
        "lstm_model.compile(optimizer='adam', loss='mean_squared_error')\n",
        "lstm_model.fit(X_train, y_train, epochs=50, batch_size=32)"
      ],
      "metadata": {
        "colab": {
          "base_uri": "https://localhost:8080/"
        },
        "id": "wt6AxqxnFUBs",
        "outputId": "639d9fee-c7f0-4d1e-abd8-39b08f5f3e26"
      },
      "execution_count": null,
      "outputs": [
        {
          "output_type": "stream",
          "name": "stdout",
          "text": [
            "Epoch 1/50\n",
            "111/111 [==============================] - 16s 96ms/step - loss: 0.0077\n",
            "Epoch 2/50\n",
            "111/111 [==============================] - 10s 93ms/step - loss: 0.0026\n",
            "Epoch 3/50\n",
            "111/111 [==============================] - 9s 82ms/step - loss: 0.0024\n",
            "Epoch 4/50\n",
            "111/111 [==============================] - 10s 93ms/step - loss: 0.0020\n",
            "Epoch 5/50\n",
            "111/111 [==============================] - 10s 93ms/step - loss: 0.0018\n",
            "Epoch 6/50\n",
            "111/111 [==============================] - 10s 93ms/step - loss: 0.0020\n",
            "Epoch 7/50\n",
            "111/111 [==============================] - 10s 93ms/step - loss: 0.0018\n",
            "Epoch 8/50\n",
            "111/111 [==============================] - 9s 84ms/step - loss: 0.0018\n",
            "Epoch 9/50\n",
            "111/111 [==============================] - 11s 97ms/step - loss: 0.0016\n",
            "Epoch 10/50\n",
            "111/111 [==============================] - 11s 100ms/step - loss: 0.0014\n",
            "Epoch 11/50\n",
            "111/111 [==============================] - 10s 93ms/step - loss: 0.0014\n",
            "Epoch 12/50\n",
            "111/111 [==============================] - 10s 88ms/step - loss: 0.0015\n",
            "Epoch 13/50\n",
            "111/111 [==============================] - 10s 86ms/step - loss: 0.0014\n",
            "Epoch 14/50\n",
            "111/111 [==============================] - 10s 93ms/step - loss: 0.0013\n",
            "Epoch 15/50\n",
            "111/111 [==============================] - 10s 93ms/step - loss: 0.0013\n",
            "Epoch 16/50\n",
            "111/111 [==============================] - 10s 93ms/step - loss: 0.0013\n",
            "Epoch 17/50\n",
            "111/111 [==============================] - 9s 83ms/step - loss: 0.0013\n",
            "Epoch 18/50\n",
            "111/111 [==============================] - 10s 94ms/step - loss: 0.0012\n",
            "Epoch 19/50\n",
            "111/111 [==============================] - 10s 94ms/step - loss: 0.0012\n",
            "Epoch 20/50\n",
            "111/111 [==============================] - 10s 95ms/step - loss: 0.0012\n",
            "Epoch 21/50\n",
            "111/111 [==============================] - 10s 92ms/step - loss: 0.0011\n",
            "Epoch 22/50\n",
            "111/111 [==============================] - 10s 86ms/step - loss: 0.0010\n",
            "Epoch 23/50\n",
            "111/111 [==============================] - 11s 95ms/step - loss: 0.0011\n",
            "Epoch 24/50\n",
            "111/111 [==============================] - 11s 95ms/step - loss: 9.3020e-04\n",
            "Epoch 25/50\n",
            "111/111 [==============================] - 11s 95ms/step - loss: 0.0011\n",
            "Epoch 26/50\n",
            "111/111 [==============================] - 10s 86ms/step - loss: 0.0010\n",
            "Epoch 27/50\n",
            "111/111 [==============================] - 10s 93ms/step - loss: 0.0010\n",
            "Epoch 28/50\n",
            "111/111 [==============================] - 11s 97ms/step - loss: 9.5546e-04\n",
            "Epoch 29/50\n",
            "111/111 [==============================] - 11s 96ms/step - loss: 9.5482e-04\n",
            "Epoch 30/50\n",
            "111/111 [==============================] - 10s 93ms/step - loss: 9.5083e-04\n",
            "Epoch 31/50\n",
            "111/111 [==============================] - 9s 82ms/step - loss: 0.0010\n",
            "Epoch 32/50\n",
            "111/111 [==============================] - 11s 95ms/step - loss: 9.9854e-04\n",
            "Epoch 33/50\n",
            "111/111 [==============================] - 10s 94ms/step - loss: 8.8910e-04\n",
            "Epoch 34/50\n",
            "111/111 [==============================] - 10s 94ms/step - loss: 9.7145e-04\n",
            "Epoch 35/50\n",
            "111/111 [==============================] - 10s 91ms/step - loss: 8.8986e-04\n",
            "Epoch 36/50\n",
            "111/111 [==============================] - 10s 85ms/step - loss: 9.2116e-04\n",
            "Epoch 37/50\n",
            "111/111 [==============================] - 10s 94ms/step - loss: 8.7364e-04\n",
            "Epoch 38/50\n",
            "111/111 [==============================] - 10s 94ms/step - loss: 9.4944e-04\n",
            "Epoch 39/50\n",
            "111/111 [==============================] - 10s 94ms/step - loss: 8.5995e-04\n",
            "Epoch 40/50\n",
            "111/111 [==============================] - 9s 82ms/step - loss: 8.5285e-04\n",
            "Epoch 41/50\n",
            "111/111 [==============================] - 10s 92ms/step - loss: 8.7159e-04\n",
            "Epoch 42/50\n",
            "111/111 [==============================] - 10s 93ms/step - loss: 9.1833e-04\n",
            "Epoch 43/50\n",
            "111/111 [==============================] - 10s 93ms/step - loss: 8.1965e-04\n",
            "Epoch 44/50\n",
            "111/111 [==============================] - 10s 88ms/step - loss: 8.1401e-04\n",
            "Epoch 45/50\n",
            "111/111 [==============================] - 10s 87ms/step - loss: 8.0909e-04\n",
            "Epoch 46/50\n",
            "111/111 [==============================] - 10s 93ms/step - loss: 7.9010e-04\n",
            "Epoch 47/50\n",
            "111/111 [==============================] - 10s 93ms/step - loss: 8.4479e-04\n",
            "Epoch 48/50\n",
            "111/111 [==============================] - 10s 92ms/step - loss: 8.1734e-04\n",
            "Epoch 49/50\n",
            "111/111 [==============================] - 9s 82ms/step - loss: 8.5000e-04\n",
            "Epoch 50/50\n",
            "111/111 [==============================] - 10s 93ms/step - loss: 7.8858e-04\n"
          ]
        },
        {
          "output_type": "execute_result",
          "data": {
            "text/plain": [
              "<keras.src.callbacks.History at 0x7ff85c41dde0>"
            ]
          },
          "metadata": {},
          "execution_count": 6
        }
      ]
    },
    {
      "cell_type": "code",
      "source": [
        "\n",
        "\n",
        "\n",
        "# Build the GRU model\n",
        "gru_model = Sequential()\n",
        "gru_model.add(GRU(units=50, return_sequences=True, input_shape=(X_train.shape[1], 1)))\n",
        "gru_model.add(Dropout(0.2))\n",
        "gru_model.add(GRU(units=50, return_sequences=True))\n",
        "gru_model.add(Dropout(0.2))\n",
        "gru_model.add(GRU(units=50))\n",
        "gru_model.add(Dropout(0.2))\n",
        "gru_model.add(Dense(units=1))"
      ],
      "metadata": {
        "id": "vFC1Pp8AFT-9"
      },
      "execution_count": null,
      "outputs": []
    },
    {
      "cell_type": "code",
      "source": [
        "\n",
        "# Compile and fit the model\n",
        "gru_model.compile(optimizer='adam', loss='mean_squared_error')\n",
        "gru_model.fit(X_train, y_train, epochs=50, batch_size=32)\n"
      ],
      "metadata": {
        "colab": {
          "base_uri": "https://localhost:8080/"
        },
        "id": "ExfGexBhFT8l",
        "outputId": "ad9750f5-221a-4908-ad06-4ab24fc361b3"
      },
      "execution_count": null,
      "outputs": [
        {
          "output_type": "stream",
          "name": "stdout",
          "text": [
            "Epoch 1/50\n",
            "111/111 [==============================] - 17s 98ms/step - loss: 0.0081\n",
            "Epoch 2/50\n",
            "111/111 [==============================] - 11s 99ms/step - loss: 0.0024\n",
            "Epoch 3/50\n",
            "111/111 [==============================] - 11s 98ms/step - loss: 0.0021\n",
            "Epoch 4/50\n",
            "111/111 [==============================] - 10s 93ms/step - loss: 0.0018\n",
            "Epoch 5/50\n",
            "111/111 [==============================] - 10s 89ms/step - loss: 0.0016\n",
            "Epoch 6/50\n",
            "111/111 [==============================] - 11s 98ms/step - loss: 0.0016\n",
            "Epoch 7/50\n",
            "111/111 [==============================] - 11s 97ms/step - loss: 0.0015\n",
            "Epoch 8/50\n",
            "111/111 [==============================] - 11s 98ms/step - loss: 0.0014\n",
            "Epoch 9/50\n",
            "111/111 [==============================] - 11s 98ms/step - loss: 0.0014\n",
            "Epoch 10/50\n",
            "111/111 [==============================] - 10s 87ms/step - loss: 0.0013\n",
            "Epoch 11/50\n",
            "111/111 [==============================] - 11s 96ms/step - loss: 0.0012\n",
            "Epoch 12/50\n",
            "111/111 [==============================] - 11s 98ms/step - loss: 0.0011\n",
            "Epoch 13/50\n",
            "111/111 [==============================] - 11s 97ms/step - loss: 0.0013\n",
            "Epoch 14/50\n",
            "111/111 [==============================] - 11s 97ms/step - loss: 0.0012\n",
            "Epoch 15/50\n",
            "111/111 [==============================] - 10s 93ms/step - loss: 0.0013\n",
            "Epoch 16/50\n",
            "111/111 [==============================] - 10s 91ms/step - loss: 0.0014\n",
            "Epoch 17/50\n",
            "111/111 [==============================] - 11s 98ms/step - loss: 0.0011\n",
            "Epoch 18/50\n",
            "111/111 [==============================] - 11s 98ms/step - loss: 0.0010\n",
            "Epoch 19/50\n",
            "111/111 [==============================] - 11s 97ms/step - loss: 0.0012\n",
            "Epoch 20/50\n",
            "111/111 [==============================] - 11s 97ms/step - loss: 0.0010\n",
            "Epoch 21/50\n",
            "111/111 [==============================] - 10s 88ms/step - loss: 9.7732e-04\n",
            "Epoch 22/50\n",
            "111/111 [==============================] - 11s 95ms/step - loss: 0.0010\n",
            "Epoch 23/50\n",
            "111/111 [==============================] - 11s 98ms/step - loss: 9.8934e-04\n",
            "Epoch 24/50\n",
            "111/111 [==============================] - 11s 98ms/step - loss: 8.6901e-04\n",
            "Epoch 25/50\n",
            "111/111 [==============================] - 11s 99ms/step - loss: 9.2745e-04\n",
            "Epoch 26/50\n",
            "111/111 [==============================] - 11s 95ms/step - loss: 8.5244e-04\n",
            "Epoch 27/50\n",
            "111/111 [==============================] - 10s 88ms/step - loss: 8.6969e-04\n",
            "Epoch 28/50\n",
            "111/111 [==============================] - 11s 96ms/step - loss: 8.9217e-04\n",
            "Epoch 29/50\n",
            "111/111 [==============================] - 11s 97ms/step - loss: 8.9177e-04\n",
            "Epoch 30/50\n",
            "111/111 [==============================] - 11s 98ms/step - loss: 8.5091e-04\n",
            "Epoch 31/50\n",
            "111/111 [==============================] - 11s 98ms/step - loss: 8.4620e-04\n",
            "Epoch 32/50\n",
            "111/111 [==============================] - 10s 92ms/step - loss: 9.1624e-04\n",
            "Epoch 33/50\n",
            "111/111 [==============================] - 11s 97ms/step - loss: 8.0871e-04\n",
            "Epoch 34/50\n",
            "111/111 [==============================] - 11s 100ms/step - loss: 8.4407e-04\n",
            "Epoch 35/50\n",
            "111/111 [==============================] - 11s 99ms/step - loss: 9.3557e-04\n",
            "Epoch 36/50\n",
            "111/111 [==============================] - 11s 100ms/step - loss: 8.2633e-04\n",
            "Epoch 37/50\n",
            "111/111 [==============================] - 11s 98ms/step - loss: 7.7479e-04\n",
            "Epoch 38/50\n",
            "111/111 [==============================] - 10s 89ms/step - loss: 8.6646e-04\n",
            "Epoch 39/50\n",
            "111/111 [==============================] - 11s 95ms/step - loss: 8.1891e-04\n",
            "Epoch 40/50\n",
            "111/111 [==============================] - 11s 97ms/step - loss: 8.1383e-04\n",
            "Epoch 41/50\n",
            "111/111 [==============================] - 11s 96ms/step - loss: 8.0578e-04\n",
            "Epoch 42/50\n",
            "111/111 [==============================] - 11s 97ms/step - loss: 8.6128e-04\n",
            "Epoch 43/50\n",
            "111/111 [==============================] - 10s 94ms/step - loss: 7.6264e-04\n",
            "Epoch 44/50\n",
            "111/111 [==============================] - 10s 91ms/step - loss: 7.7057e-04\n",
            "Epoch 45/50\n",
            "111/111 [==============================] - 11s 97ms/step - loss: 7.7121e-04\n",
            "Epoch 46/50\n",
            "111/111 [==============================] - 11s 96ms/step - loss: 7.8390e-04\n",
            "Epoch 47/50\n",
            "111/111 [==============================] - 11s 97ms/step - loss: 7.6235e-04\n",
            "Epoch 48/50\n",
            "111/111 [==============================] - 11s 99ms/step - loss: 8.9170e-04\n",
            "Epoch 49/50\n",
            "111/111 [==============================] - 10s 88ms/step - loss: 8.0591e-04\n",
            "Epoch 50/50\n",
            "111/111 [==============================] - 11s 96ms/step - loss: 7.5620e-04\n"
          ]
        },
        {
          "output_type": "execute_result",
          "data": {
            "text/plain": [
              "<keras.src.callbacks.History at 0x7ff856e27d90>"
            ]
          },
          "metadata": {},
          "execution_count": 8
        }
      ]
    },
    {
      "cell_type": "code",
      "source": [
        "\n",
        "# Predictions\n",
        "inputs = training_data_scaled[-60:]  # Select the last 60 data points\n",
        "X_test = []\n",
        "X_test.append(inputs)  # Append the last 60 data points to X_test\n",
        "X_test = np.array(X_test)"
      ],
      "metadata": {
        "id": "jY3dRlTzFT55"
      },
      "execution_count": null,
      "outputs": []
    },
    {
      "cell_type": "code",
      "source": [
        "\n",
        "\n",
        "lstm_predicted_stock_price = lstm_model.predict(X_test)\n",
        "lstm_predicted_stock_price = sc.inverse_transform(lstm_predicted_stock_price)\n",
        "\n"
      ],
      "metadata": {
        "colab": {
          "base_uri": "https://localhost:8080/"
        },
        "id": "SScMBGePFTyD",
        "outputId": "513a0202-9bde-4e42-d54a-2a77b8e24381"
      },
      "execution_count": null,
      "outputs": [
        {
          "output_type": "stream",
          "name": "stdout",
          "text": [
            "1/1 [==============================] - 2s 2s/step\n"
          ]
        }
      ]
    },
    {
      "cell_type": "code",
      "source": [
        "lstm_predicted_stock_price"
      ],
      "metadata": {
        "colab": {
          "base_uri": "https://localhost:8080/"
        },
        "id": "3jGqs0ZsFTvP",
        "outputId": "2ee56217-b744-4761-eaed-e18ccae065f3"
      },
      "execution_count": null,
      "outputs": [
        {
          "output_type": "execute_result",
          "data": {
            "text/plain": [
              "array([[595.67773]], dtype=float32)"
            ]
          },
          "metadata": {},
          "execution_count": 15
        }
      ]
    },
    {
      "cell_type": "code",
      "source": [
        "\n",
        "gru_predicted_stock_price = gru_model.predict(X_test)\n",
        "gru_predicted_stock_price = sc.inverse_transform(gru_predicted_stock_price)"
      ],
      "metadata": {
        "colab": {
          "base_uri": "https://localhost:8080/"
        },
        "id": "75kLdyEUFTsp",
        "outputId": "28583db8-821f-4f56-8d35-2d0aacc46442"
      },
      "execution_count": null,
      "outputs": [
        {
          "output_type": "stream",
          "name": "stdout",
          "text": [
            "1/1 [==============================] - 0s 33ms/step\n"
          ]
        }
      ]
    },
    {
      "cell_type": "code",
      "source": [
        "gru_predicted_stock_price"
      ],
      "metadata": {
        "colab": {
          "base_uri": "https://localhost:8080/"
        },
        "id": "UOWxF4T5FTp4",
        "outputId": "2f56f45a-3b54-4d9d-92ce-cc365575dbfe"
      },
      "execution_count": null,
      "outputs": [
        {
          "output_type": "execute_result",
          "data": {
            "text/plain": [
              "array([[617.9961]], dtype=float32)"
            ]
          },
          "metadata": {},
          "execution_count": 17
        }
      ]
    },
    {
      "cell_type": "code",
      "source": [
        "# Reshape predicted prices to 1D array\n",
        "lstm_predicted_stock_price = lstm_predicted_stock_price.flatten()\n",
        "gru_predicted_stock_price = gru_predicted_stock_price.flatten()"
      ],
      "metadata": {
        "id": "FAWMxotN8V47"
      },
      "execution_count": null,
      "outputs": []
    },
    {
      "cell_type": "code",
      "source": [
        "# Calculate Mean Squared Percentage Error (MSPE) for LSTM model\n",
        "lstm_mspe = np.mean(((lstm_predicted_stock_price - netflix_data['Close'][-len(lstm_predicted_stock_price):]) / netflix_data['Close'][-len(lstm_predicted_stock_price):])**2)\n",
        "print(\"MSPE for LSTM model:\", lstm_mspe)"
      ],
      "metadata": {
        "colab": {
          "base_uri": "https://localhost:8080/"
        },
        "id": "6wTFlXtZFTe3",
        "outputId": "74c0fd80-b79c-4eb5-9af3-f2744b5a3b4b"
      },
      "execution_count": null,
      "outputs": [
        {
          "output_type": "stream",
          "name": "stdout",
          "text": [
            "MSPE for LSTM model: 0.002771524538594821\n"
          ]
        }
      ]
    },
    {
      "cell_type": "code",
      "source": [
        "# Calculate Mean Squared Percentage Error (MSPE) for GRU model\n",
        "gru_mspe = np.mean(((gru_predicted_stock_price - netflix_data['Close'][-len(gru_predicted_stock_price):]) / netflix_data['Close'][-len(gru_predicted_stock_price):])**2)\n",
        "print(\"MSPE for GRU model:\", gru_mspe)\n"
      ],
      "metadata": {
        "colab": {
          "base_uri": "https://localhost:8080/"
        },
        "id": "40Xw6J8koZY_",
        "outputId": "63af8241-0d26-4bce-f568-e81add2d72da"
      },
      "execution_count": null,
      "outputs": [
        {
          "output_type": "stream",
          "name": "stdout",
          "text": [
            "MSPE for GRU model: 0.0002941420316762306\n"
          ]
        }
      ]
    },
    {
      "cell_type": "code",
      "source": [
        "# Calculate Mean Absolute Percentage Error (MAPE) for LSTM model\n",
        "lstm_mape = np.mean(np.abs((lstm_predicted_stock_price - netflix_data['Close'][-len(lstm_predicted_stock_price):]) / netflix_data['Close'][-len(lstm_predicted_stock_price):])) * 100\n",
        "print(\"MAPE for LSTM model:\", lstm_mape)"
      ],
      "metadata": {
        "colab": {
          "base_uri": "https://localhost:8080/"
        },
        "id": "Sz4lfYr-qbzO",
        "outputId": "a62125f8-f0b1-4c11-e3b2-51ccad29c897"
      },
      "execution_count": null,
      "outputs": [
        {
          "output_type": "stream",
          "name": "stdout",
          "text": [
            "MAPE for LSTM model: 5.26452708093977\n"
          ]
        }
      ]
    },
    {
      "cell_type": "code",
      "source": [
        "# Calculate Mean Absolute Percentage Error (MAPE) for GRU model\n",
        "gru_mape = np.mean(np.abs((gru_predicted_stock_price - netflix_data['Close'][-len(gru_predicted_stock_price):]) / netflix_data['Close'][-len(gru_predicted_stock_price):])) * 100\n",
        "print(\"MAPE for GRU model:\", gru_mape)"
      ],
      "metadata": {
        "colab": {
          "base_uri": "https://localhost:8080/"
        },
        "id": "ONaauT8H7F_0",
        "outputId": "98bc8ba0-0fb5-4358-bc6d-ce31b8fd6703"
      },
      "execution_count": null,
      "outputs": [
        {
          "output_type": "stream",
          "name": "stdout",
          "text": [
            "MAPE for GRU model: 1.7150569427171525\n"
          ]
        }
      ]
    },
    {
      "cell_type": "code",
      "source": [
        "# Calculate RMSE for LSTM model\n",
        "lstm_rmse = np.sqrt(np.mean((lstm_predicted_stock_price - netflix_data['Close'][-len(lstm_predicted_stock_price):])**2))\n",
        "print(\"RMSE for LSTM model:\", lstm_rmse)"
      ],
      "metadata": {
        "colab": {
          "base_uri": "https://localhost:8080/"
        },
        "id": "JaJRODBi7K49",
        "outputId": "95eac534-d022-4d12-bff6-020f11bad5a6"
      },
      "execution_count": null,
      "outputs": [
        {
          "output_type": "stream",
          "name": "stdout",
          "text": [
            "RMSE for LSTM model: 33.102294921875\n"
          ]
        }
      ]
    },
    {
      "cell_type": "code",
      "source": [
        "gru_rmse = np.sqrt(np.mean((gru_predicted_stock_price - netflix_data['Close'][-len(gru_predicted_stock_price):])**2))\n",
        "print(\"RMSE for GRU model:\", gru_rmse)"
      ],
      "metadata": {
        "colab": {
          "base_uri": "https://localhost:8080/"
        },
        "id": "ocQnB3Gg8vEl",
        "outputId": "411424ef-c262-4180-858c-42acf2bfaf75"
      },
      "execution_count": null,
      "outputs": [
        {
          "output_type": "stream",
          "name": "stdout",
          "text": [
            "RMSE for GRU model: 10.783935546875\n"
          ]
        }
      ]
    },
    {
      "cell_type": "code",
      "source": [],
      "metadata": {
        "id": "jbVHi_2081Cn"
      },
      "execution_count": null,
      "outputs": []
    }
  ]
}